{
 "cells": [
  {
   "cell_type": "code",
   "execution_count": 14,
   "metadata": {},
   "outputs": [],
   "source": [
    "import tensorflow as tf"
   ]
  },
  {
   "cell_type": "code",
   "execution_count": 15,
   "metadata": {},
   "outputs": [],
   "source": [
    "mnist = tf.keras.datasets.mnist\n",
    "\n",
    "(x_train, y_train), (x_test, y_test) = mnist.load_data()\n",
    "x_train, x_test = x_train / 255.0, x_test / 255.0"
   ]
  },
  {
   "cell_type": "code",
   "execution_count": 16,
   "metadata": {},
   "outputs": [],
   "source": [
    "model = tf.keras.models.Sequential([\n",
    "  tf.keras.layers.Flatten(input_shape=(28, 28)),\n",
    "  tf.keras.layers.Dense(512, activation='relu'),\n",
    "  tf.keras.layers.Dropout(0.2),\n",
    "  tf.keras.layers.Dense(10)\n",
    "])"
   ]
  },
  {
   "cell_type": "code",
   "execution_count": 17,
   "metadata": {},
   "outputs": [
    {
     "data": {
      "text/plain": [
       "array([[-0.39137307, -0.24210665, -0.2667338 ,  0.2592851 , -0.23345374,\n",
       "        -0.1331101 ,  0.0374433 ,  0.08640156,  0.23961242, -0.06866542]],\n",
       "      dtype=float32)"
      ]
     },
     "execution_count": 17,
     "metadata": {},
     "output_type": "execute_result"
    }
   ],
   "source": [
    "predictions = model(x_train[:1]).numpy()\n",
    "predictions"
   ]
  },
  {
   "cell_type": "code",
   "execution_count": 18,
   "metadata": {},
   "outputs": [
    {
     "data": {
      "text/plain": [
       "array([[0.07099994, 0.08242967, 0.08042446, 0.13609283, 0.08314603,\n",
       "        0.09192214, 0.10901608, 0.11448614, 0.13344169, 0.09804109]],\n",
       "      dtype=float32)"
      ]
     },
     "execution_count": 18,
     "metadata": {},
     "output_type": "execute_result"
    }
   ],
   "source": [
    "tf.nn.softmax(predictions).numpy()"
   ]
  },
  {
   "cell_type": "code",
   "execution_count": 19,
   "metadata": {},
   "outputs": [],
   "source": [
    "loss_fn = tf.keras.losses.SparseCategoricalCrossentropy(from_logits=True)"
   ]
  },
  {
   "cell_type": "code",
   "execution_count": 20,
   "metadata": {},
   "outputs": [
    {
     "data": {
      "text/plain": [
       "2.3868134"
      ]
     },
     "execution_count": 20,
     "metadata": {},
     "output_type": "execute_result"
    }
   ],
   "source": [
    "loss_fn(y_train[:1], predictions).numpy()"
   ]
  },
  {
   "cell_type": "code",
   "execution_count": 21,
   "metadata": {},
   "outputs": [],
   "source": [
    "model.compile(optimizer='adam',\n",
    "              loss=loss_fn,\n",
    "              metrics=['accuracy'])"
   ]
  },
  {
   "cell_type": "code",
   "execution_count": 26,
   "metadata": {},
   "outputs": [
    {
     "name": "stdout",
     "output_type": "stream",
     "text": [
      "Epoch 1/8\n",
      "1875/1875 [==============================] - 11s 6ms/step - loss: 0.0357 - accuracy: 0.9884\n",
      "Epoch 2/8\n",
      "1875/1875 [==============================] - 11s 6ms/step - loss: 0.0331 - accuracy: 0.9892\n",
      "Epoch 3/8\n",
      "1875/1875 [==============================] - 11s 6ms/step - loss: 0.0286 - accuracy: 0.9901\n",
      "Epoch 4/8\n",
      "1875/1875 [==============================] - 13s 7ms/step - loss: 0.0257 - accuracy: 0.9913\n",
      "Epoch 5/8\n",
      "1875/1875 [==============================] - 13s 7ms/step - loss: 0.0221 - accuracy: 0.9926\n",
      "Epoch 6/8\n",
      "1875/1875 [==============================] - 13s 7ms/step - loss: 0.0187 - accuracy: 0.9936\n",
      "Epoch 7/8\n",
      "1875/1875 [==============================] - 13s 7ms/step - loss: 0.0201 - accuracy: 0.9932\n",
      "Epoch 8/8\n",
      "1875/1875 [==============================] - 13s 7ms/step - loss: 0.0181 - accuracy: 0.9937\n"
     ]
    },
    {
     "data": {
      "text/plain": [
       "<keras.src.callbacks.History at 0x1ee35aa6d10>"
      ]
     },
     "execution_count": 26,
     "metadata": {},
     "output_type": "execute_result"
    }
   ],
   "source": [
    "model.fit(x_train, y_train, epochs=8)"
   ]
  },
  {
   "cell_type": "code",
   "execution_count": 27,
   "metadata": {},
   "outputs": [
    {
     "name": "stdout",
     "output_type": "stream",
     "text": [
      "313/313 - 1s - loss: 0.0813 - accuracy: 0.9823 - 583ms/epoch - 2ms/step\n"
     ]
    },
    {
     "data": {
      "text/plain": [
       "[0.0813060775399208, 0.9822999835014343]"
      ]
     },
     "execution_count": 27,
     "metadata": {},
     "output_type": "execute_result"
    }
   ],
   "source": [
    "model.evaluate(x_test,  y_test, verbose=2)"
   ]
  },
  {
   "cell_type": "code",
   "execution_count": 24,
   "metadata": {},
   "outputs": [],
   "source": [
    "probability_model = tf.keras.Sequential([\n",
    "  model,\n",
    "  tf.keras.layers.Softmax()\n",
    "])"
   ]
  },
  {
   "cell_type": "code",
   "execution_count": 25,
   "metadata": {},
   "outputs": [
    {
     "data": {
      "text/plain": [
       "<tf.Tensor: shape=(5, 10), dtype=float32, numpy=\n",
       "array([[1.1629527e-07, 3.8943299e-10, 3.1205298e-07, 1.2643704e-04,\n",
       "        7.8159559e-14, 3.7625000e-08, 7.4884304e-13, 9.9986184e-01,\n",
       "        8.8581693e-08, 1.1131241e-05],\n",
       "       [8.4941627e-09, 3.0257500e-04, 9.9969721e-01, 1.4372873e-07,\n",
       "        3.1331989e-14, 3.5561932e-11, 1.1220494e-07, 2.2551386e-12,\n",
       "        4.2446761e-08, 1.8874994e-14],\n",
       "       [4.9166410e-08, 9.9970752e-01, 8.1265835e-06, 3.3390654e-07,\n",
       "        6.2279956e-05, 3.5883360e-07, 1.5698048e-05, 7.6361735e-05,\n",
       "        1.2915515e-04, 2.2926953e-08],\n",
       "       [9.9998927e-01, 6.0580187e-11, 2.1256355e-06, 5.6577614e-09,\n",
       "        7.1237316e-10, 5.0106760e-08, 3.8865787e-06, 1.6659938e-07,\n",
       "        3.5364381e-10, 4.4829267e-06],\n",
       "       [1.1960600e-06, 3.6174881e-09, 2.8039037e-07, 1.5966121e-09,\n",
       "        9.8609263e-01, 5.9106327e-08, 3.1018571e-05, 9.7179527e-06,\n",
       "        1.8936767e-07, 1.3864944e-02]], dtype=float32)>"
      ]
     },
     "execution_count": 25,
     "metadata": {},
     "output_type": "execute_result"
    }
   ],
   "source": [
    "probability_model(x_test[:5])"
   ]
  }
 ],
 "metadata": {
  "kernelspec": {
   "display_name": "Python 3",
   "language": "python",
   "name": "python3"
  },
  "language_info": {
   "codemirror_mode": {
    "name": "ipython",
    "version": 3
   },
   "file_extension": ".py",
   "mimetype": "text/x-python",
   "name": "python",
   "nbconvert_exporter": "python",
   "pygments_lexer": "ipython3",
   "version": "3.10.1"
  },
  "orig_nbformat": 4
 },
 "nbformat": 4,
 "nbformat_minor": 2
}
